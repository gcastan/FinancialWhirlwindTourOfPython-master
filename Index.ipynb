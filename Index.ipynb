{
 "cells": [
  {
   "cell_type": "markdown",
   "metadata": {},
   "source": [
    "# A Financial Whirlwind Tour of Python"
   ]
  },
  {
   "cell_type": "markdown",
   "metadata": {},
   "source": [
    "*Jake VanderPlas Modified Dr. James Scott*"
   ]
  },
  {
   "cell_type": "markdown",
   "metadata": {},
   "source": [
    "*A Financial Whirlwind Tour of Python* is a fast-paced introduction to essential\n",
    "components of the Python language for financial students, researchers and developers\n",
    "who are already familiar with programming in another language.\n",
    "\n",
    "The material is particularly aimed at those who wish to use Python for financial \n",
    "data analysis and/or scientific programming.\n",
    "The orginal notebooks are adapted from lectures and workshops by Jake VanderPlas\n",
    "at University of Washington.  Dr. Scott has modified the notebooks for the teaching\n",
    "of financial data analysis."
   ]
  },
  {
   "cell_type": "markdown",
   "metadata": {},
   "source": [
    "## Index\n",
    "\n",
    "1. [Introduction](00-Introduction.ipynb)\n",
    "2. [How to Run Python Code](01-How-to-Run-Python-Code.ipynb)\n",
    "3. [Basic Python Syntax](02-Basic-Python-Syntax.ipynb)\n",
    "4. [Python Semantics: Variables](03-TBD.ipynb)\n",
    "5. [Python Semantics: Operators](04-TBD.ipynb)\n",
    "6. [Built-In Scalar Types](05-TBD.ipynb)\n",
    "7. [Built-In Data Structures](06-TBD.ipynb)\n",
    "8. [Control Flow Statements](07-TBD.ipynb)\n",
    "9. [Defining Functions](08-TBD.ipynb)\n",
    "10. [Errors and Exceptions](09-TBD.ipynb)\n",
    "11. [Iterators](10-TBD.ipynb)\n",
    "12. [List Comprehensions](11-TBD.ipynb)\n",
    "13. [Generators and Generator Expressions](12-TBD.ipynb)\n",
    "14. [Modules and Packages](13-TBD.ipynb)\n",
    "15. [Strings and Regular Expressions](14-TBD.ipynb)\n",
    "16. [Preview of Data Science Tools](15-TBD.ipynb)\n",
    "17. [Resources for Further Learning](16-TBD.ipynb)\n",
    "18. [Appendix: Code To Reproduce Figures](17-TBD.ipynb)"
   ]
  },
  {
   "cell_type": "markdown",
   "metadata": {},
   "source": [
    "## License\n",
    "\n",
    "This material is released under the \"No Rights Reserved\" [CC0](LICENSE)\n",
    "license, and thus you are free to re-use, modify, build-on, and enhance\n",
    "this material for any purpose.\n",
    "\n",
    "That said, I request (but do not require) that if you use or adapt this material,\n",
    "you include a proper attribution and/or citation; for example\n",
    "\n",
    "> *A Whirlwind Tour of Python* by Jake VanderPlas (O’Reilly). Copyright 2016 O’Reilly Media, Inc., 978-1-491-96465-1\n",
    "\n",
    "Read more about CC0 [here](https://creativecommons.org/share-your-work/public-domain/cc0/)."
   ]
  }
 ],
 "metadata": {
  "anaconda-cloud": {},
  "kernelspec": {
   "display_name": "Python 3",
   "language": "python",
   "name": "python3"
  },
  "language_info": {
   "codemirror_mode": {
    "name": "ipython",
    "version": 3
   },
   "file_extension": ".py",
   "mimetype": "text/x-python",
   "name": "python",
   "nbconvert_exporter": "python",
   "pygments_lexer": "ipython3",
   "version": "3.6.2"
  }
 },
 "nbformat": 4,
 "nbformat_minor": 1
}
